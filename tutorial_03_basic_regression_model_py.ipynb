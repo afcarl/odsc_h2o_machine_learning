{
 "cells": [
  {
   "cell_type": "markdown",
   "metadata": {},
   "source": [
    "# Machine Learning with H2O - Tutorial 3: Basic Regression Models\n",
    "\n",
    "<hr>\n",
    "\n",
    "**Objective**:\n",
    "\n",
    "- This tutorial explains how to build regression models with four different H2O algorithms.\n",
    "\n",
    "<hr>\n",
    "\n",
    "**Wine Quality Dataset:**\n",
    "\n",
    "- Source: https://archive.ics.uci.edu/ml/datasets/Wine+Quality\n",
    "- CSV (https://archive.ics.uci.edu/ml/machine-learning-databases/wine-quality/winequality-white.csv)\n",
    "\n",
    "<hr>\n",
    "    \n",
    "**Algorithms**:\n",
    "\n",
    "1. GLM\n",
    "2. DRF\n",
    "3. GBM\n",
    "4. DNN\n",
    "\n",
    "\n",
    "<hr>\n",
    "\n",
    "**Full Technical Reference:**\n",
    "\n",
    "- http://docs.h2o.ai/h2o/latest-stable/h2o-py/docs/modeling.html\n",
    "\n",
    "<br>\n"
   ]
  },
  {
   "cell_type": "code",
   "execution_count": 1,
   "metadata": {
    "collapsed": false,
    "scrolled": false
   },
   "outputs": [
    {
     "name": "stdout",
     "output_type": "stream",
     "text": [
      "Checking whether there is an H2O instance running at http://localhost:54321..... not found.\n",
      "Attempting to start a local H2O server...\n",
      "  Java Version: java version \"1.8.0_121\"; Java(TM) SE Runtime Environment (build 1.8.0_121-b13); Java HotSpot(TM) 64-Bit Server VM (build 25.121-b13, mixed mode)\n",
      "  Starting server from /home/joe/anaconda3/lib/python3.5/site-packages/h2o/backend/bin/h2o.jar\n",
      "  Ice root: /tmp/tmp6vv0ebqc\n",
      "  JVM stdout: /tmp/tmp6vv0ebqc/h2o_joe_started_from_python.out\n",
      "  JVM stderr: /tmp/tmp6vv0ebqc/h2o_joe_started_from_python.err\n",
      "  Server is running at http://127.0.0.1:54321\n",
      "Connecting to H2O server at http://127.0.0.1:54321... successful.\n"
     ]
    },
    {
     "data": {
      "text/html": [
       "<div style=\"overflow:auto\"><table style=\"width:50%\"><tr><td>H2O cluster uptime:</td>\n",
       "<td>02 secs</td></tr>\n",
       "<tr><td>H2O cluster version:</td>\n",
       "<td>3.10.3.5</td></tr>\n",
       "<tr><td>H2O cluster version age:</td>\n",
       "<td>6 days </td></tr>\n",
       "<tr><td>H2O cluster name:</td>\n",
       "<td>H2O_from_python_joe_pi4bgn</td></tr>\n",
       "<tr><td>H2O cluster total nodes:</td>\n",
       "<td>1</td></tr>\n",
       "<tr><td>H2O cluster free memory:</td>\n",
       "<td>5.210 Gb</td></tr>\n",
       "<tr><td>H2O cluster total cores:</td>\n",
       "<td>8</td></tr>\n",
       "<tr><td>H2O cluster allowed cores:</td>\n",
       "<td>8</td></tr>\n",
       "<tr><td>H2O cluster status:</td>\n",
       "<td>accepting new members, healthy</td></tr>\n",
       "<tr><td>H2O connection url:</td>\n",
       "<td>http://127.0.0.1:54321</td></tr>\n",
       "<tr><td>H2O connection proxy:</td>\n",
       "<td>None</td></tr>\n",
       "<tr><td>Python version:</td>\n",
       "<td>3.5.2 final</td></tr></table></div>"
      ],
      "text/plain": [
       "--------------------------  ------------------------------\n",
       "H2O cluster uptime:         02 secs\n",
       "H2O cluster version:        3.10.3.5\n",
       "H2O cluster version age:    6 days\n",
       "H2O cluster name:           H2O_from_python_joe_pi4bgn\n",
       "H2O cluster total nodes:    1\n",
       "H2O cluster free memory:    5.210 Gb\n",
       "H2O cluster total cores:    8\n",
       "H2O cluster allowed cores:  8\n",
       "H2O cluster status:         accepting new members, healthy\n",
       "H2O connection url:         http://127.0.0.1:54321\n",
       "H2O connection proxy:\n",
       "Python version:             3.5.2 final\n",
       "--------------------------  ------------------------------"
      ]
     },
     "metadata": {},
     "output_type": "display_data"
    }
   ],
   "source": [
    "# Start and connect to a local H2O cluster\n",
    "import h2o\n",
    "h2o.init(nthreads = -1)"
   ]
  },
  {
   "cell_type": "markdown",
   "metadata": {},
   "source": [
    "<br>"
   ]
  },
  {
   "cell_type": "code",
   "execution_count": 2,
   "metadata": {
    "collapsed": false
   },
   "outputs": [
    {
     "name": "stdout",
     "output_type": "stream",
     "text": [
      "Parse progress: |█████████████████████████████████████████████████████████| 100%\n"
     ]
    },
    {
     "data": {
      "text/html": [
       "<table>\n",
       "<thead>\n",
       "<tr><th style=\"text-align: right;\">  fixed acidity</th><th style=\"text-align: right;\">  volatile acidity</th><th style=\"text-align: right;\">  citric acid</th><th style=\"text-align: right;\">  residual sugar</th><th style=\"text-align: right;\">  chlorides</th><th style=\"text-align: right;\">  free sulfur dioxide</th><th style=\"text-align: right;\">  total sulfur dioxide</th><th style=\"text-align: right;\">  density</th><th style=\"text-align: right;\">  pH</th><th style=\"text-align: right;\">  sulphates</th><th style=\"text-align: right;\">  alcohol</th><th style=\"text-align: right;\">  quality</th></tr>\n",
       "</thead>\n",
       "<tbody>\n",
       "<tr><td style=\"text-align: right;\">            7  </td><td style=\"text-align: right;\">              0.27</td><td style=\"text-align: right;\">         0.36</td><td style=\"text-align: right;\">            20.7</td><td style=\"text-align: right;\">      0.045</td><td style=\"text-align: right;\">                   45</td><td style=\"text-align: right;\">                   170</td><td style=\"text-align: right;\">   1.001 </td><td style=\"text-align: right;\">3   </td><td style=\"text-align: right;\">       0.45</td><td style=\"text-align: right;\">      8.8</td><td style=\"text-align: right;\">        6</td></tr>\n",
       "<tr><td style=\"text-align: right;\">            6.3</td><td style=\"text-align: right;\">              0.3 </td><td style=\"text-align: right;\">         0.34</td><td style=\"text-align: right;\">             1.6</td><td style=\"text-align: right;\">      0.049</td><td style=\"text-align: right;\">                   14</td><td style=\"text-align: right;\">                   132</td><td style=\"text-align: right;\">   0.994 </td><td style=\"text-align: right;\">3.3 </td><td style=\"text-align: right;\">       0.49</td><td style=\"text-align: right;\">      9.5</td><td style=\"text-align: right;\">        6</td></tr>\n",
       "<tr><td style=\"text-align: right;\">            8.1</td><td style=\"text-align: right;\">              0.28</td><td style=\"text-align: right;\">         0.4 </td><td style=\"text-align: right;\">             6.9</td><td style=\"text-align: right;\">      0.05 </td><td style=\"text-align: right;\">                   30</td><td style=\"text-align: right;\">                    97</td><td style=\"text-align: right;\">   0.9951</td><td style=\"text-align: right;\">3.26</td><td style=\"text-align: right;\">       0.44</td><td style=\"text-align: right;\">     10.1</td><td style=\"text-align: right;\">        6</td></tr>\n",
       "<tr><td style=\"text-align: right;\">            7.2</td><td style=\"text-align: right;\">              0.23</td><td style=\"text-align: right;\">         0.32</td><td style=\"text-align: right;\">             8.5</td><td style=\"text-align: right;\">      0.058</td><td style=\"text-align: right;\">                   47</td><td style=\"text-align: right;\">                   186</td><td style=\"text-align: right;\">   0.9956</td><td style=\"text-align: right;\">3.19</td><td style=\"text-align: right;\">       0.4 </td><td style=\"text-align: right;\">      9.9</td><td style=\"text-align: right;\">        6</td></tr>\n",
       "<tr><td style=\"text-align: right;\">            7.2</td><td style=\"text-align: right;\">              0.23</td><td style=\"text-align: right;\">         0.32</td><td style=\"text-align: right;\">             8.5</td><td style=\"text-align: right;\">      0.058</td><td style=\"text-align: right;\">                   47</td><td style=\"text-align: right;\">                   186</td><td style=\"text-align: right;\">   0.9956</td><td style=\"text-align: right;\">3.19</td><td style=\"text-align: right;\">       0.4 </td><td style=\"text-align: right;\">      9.9</td><td style=\"text-align: right;\">        6</td></tr>\n",
       "</tbody>\n",
       "</table>"
      ]
     },
     "metadata": {},
     "output_type": "display_data"
    },
    {
     "data": {
      "text/plain": []
     },
     "execution_count": 2,
     "metadata": {},
     "output_type": "execute_result"
    }
   ],
   "source": [
    "# Import wine quality data from a local CSV file\n",
    "wine = h2o.import_file(\"winequality-white.csv\")\n",
    "wine.head(5)"
   ]
  },
  {
   "cell_type": "code",
   "execution_count": 3,
   "metadata": {
    "collapsed": false
   },
   "outputs": [
    {
     "data": {
      "text/plain": [
       "['fixed acidity',\n",
       " 'volatile acidity',\n",
       " 'citric acid',\n",
       " 'residual sugar',\n",
       " 'chlorides',\n",
       " 'free sulfur dioxide',\n",
       " 'total sulfur dioxide',\n",
       " 'density',\n",
       " 'pH',\n",
       " 'sulphates',\n",
       " 'alcohol']"
      ]
     },
     "execution_count": 3,
     "metadata": {},
     "output_type": "execute_result"
    }
   ],
   "source": [
    "# Define features (or predictors)\n",
    "features = list(wine.columns) # we want to use all the information\n",
    "features.remove('quality')    # we need to exclude the target 'quality' (otherwise there is nothing to predict)\n",
    "features"
   ]
  },
  {
   "cell_type": "code",
   "execution_count": 4,
   "metadata": {
    "collapsed": false
   },
   "outputs": [],
   "source": [
    "# Split the H2O data frame into training/test sets\n",
    "# so we can evaluate out-of-bag performance\n",
    "wine_split = wine.split_frame(ratios = [0.8])\n",
    "\n",
    "wine_train = wine_split[0] # using 80% for training\n",
    "wine_test = wine_split[1]  # using the rest 20% for out-of-bag evaluation"
   ]
  },
  {
   "cell_type": "code",
   "execution_count": 5,
   "metadata": {
    "collapsed": false
   },
   "outputs": [
    {
     "data": {
      "text/plain": [
       "(3920, 12)"
      ]
     },
     "execution_count": 5,
     "metadata": {},
     "output_type": "execute_result"
    }
   ],
   "source": [
    "wine_train.shape"
   ]
  },
  {
   "cell_type": "code",
   "execution_count": 6,
   "metadata": {
    "collapsed": false
   },
   "outputs": [
    {
     "data": {
      "text/plain": [
       "(978, 12)"
      ]
     },
     "execution_count": 6,
     "metadata": {},
     "output_type": "execute_result"
    }
   ],
   "source": [
    "wine_test.shape"
   ]
  },
  {
   "cell_type": "markdown",
   "metadata": {},
   "source": [
    "<br>\n",
    "\n",
    "## Generalized Linear Model"
   ]
  },
  {
   "cell_type": "code",
   "execution_count": 7,
   "metadata": {
    "collapsed": false
   },
   "outputs": [
    {
     "name": "stdout",
     "output_type": "stream",
     "text": [
      "glm Model Build progress: |███████████████████████████████████████████████| 100%\n"
     ]
    }
   ],
   "source": [
    "# Build a Generalized Linear Model (GLM) with default settings\n",
    "\n",
    "# Import the function for GLM\n",
    "from h2o.estimators.glm import H2OGeneralizedLinearEstimator\n",
    "\n",
    "# Set up GLM for regression\n",
    "glm_default = H2OGeneralizedLinearEstimator(family = 'gaussian', model_id = 'glm_default')\n",
    "\n",
    "# Use .train() to build the model\n",
    "glm_default.train(x = features, \n",
    "                  y = 'quality', \n",
    "                  training_frame = wine_train)"
   ]
  },
  {
   "cell_type": "code",
   "execution_count": 8,
   "metadata": {
    "collapsed": false
   },
   "outputs": [
    {
     "name": "stdout",
     "output_type": "stream",
     "text": [
      "Model Details\n",
      "=============\n",
      "H2OGeneralizedLinearEstimator :  Generalized Linear Modeling\n",
      "Model Key:  glm_default\n",
      "\n",
      "\n",
      "ModelMetricsRegressionGLM: glm\n",
      "** Reported on train data. **\n",
      "\n",
      "MSE: 0.5467603340138831\n",
      "RMSE: 0.7394324404662559\n",
      "MAE: 0.5779878196869473\n",
      "RMSLE: 0.10933916345150961\n",
      "R^2: 0.2911164642372668\n",
      "Mean Residual Deviance: 0.5467603340138831\n",
      "Null degrees of freedom: 3919\n",
      "Residual degrees of freedom: 3909\n",
      "Null deviance: 3023.4875000000006\n",
      "Residual deviance: 2143.300509334422\n",
      "AIC: 8781.798802624067\n",
      "Scoring History: \n"
     ]
    },
    {
     "data": {
      "text/html": [
       "<div style=\"overflow:auto\"><table style=\"width:50%\"><tr><td><b></b></td>\n",
       "<td><b>timestamp</b></td>\n",
       "<td><b>duration</b></td>\n",
       "<td><b>iteration</b></td>\n",
       "<td><b>negative_log_likelihood</b></td>\n",
       "<td><b>objective</b></td></tr>\n",
       "<tr><td></td>\n",
       "<td>2017-02-24 14:29:03</td>\n",
       "<td> 0.000 sec</td>\n",
       "<td>0</td>\n",
       "<td>3023.4875000</td>\n",
       "<td>0.7712978</td></tr></table></div>"
      ],
      "text/plain": [
       "    timestamp            duration    iteration    negative_log_likelihood    objective\n",
       "--  -------------------  ----------  -----------  -------------------------  -----------\n",
       "    2017-02-24 14:29:03  0.000 sec   0            3023.49                    0.771298"
      ]
     },
     "metadata": {},
     "output_type": "display_data"
    },
    {
     "data": {
      "text/plain": []
     },
     "execution_count": 8,
     "metadata": {},
     "output_type": "execute_result"
    }
   ],
   "source": [
    "# Check the model performance on training dataset\n",
    "glm_default"
   ]
  },
  {
   "cell_type": "code",
   "execution_count": 9,
   "metadata": {
    "collapsed": false
   },
   "outputs": [
    {
     "name": "stdout",
     "output_type": "stream",
     "text": [
      "\n",
      "ModelMetricsRegressionGLM: glm\n",
      "** Reported on test data. **\n",
      "\n",
      "MSE: 0.6379083941821849\n",
      "RMSE: 0.7986916765449512\n",
      "MAE: 0.6084586866057362\n",
      "RMSLE: 0.12068062132646235\n",
      "R^2: 0.23682987530728572\n",
      "Mean Residual Deviance: 0.6379083941821849\n",
      "Null degrees of freedom: 977\n",
      "Residual degrees of freedom: 967\n",
      "Null deviance: 817.5084757653062\n",
      "Residual deviance: 623.8744095101769\n",
      "AIC: 2359.773515167577\n"
     ]
    },
    {
     "data": {
      "text/plain": []
     },
     "execution_count": 9,
     "metadata": {},
     "output_type": "execute_result"
    }
   ],
   "source": [
    "# Check the model performance on test dataset\n",
    "glm_default.model_performance(wine_test)"
   ]
  },
  {
   "cell_type": "markdown",
   "metadata": {
    "collapsed": true
   },
   "source": [
    "<br>\n",
    "\n",
    "## Distributed Random Forest"
   ]
  },
  {
   "cell_type": "code",
   "execution_count": 10,
   "metadata": {
    "collapsed": false
   },
   "outputs": [
    {
     "name": "stdout",
     "output_type": "stream",
     "text": [
      "drf Model Build progress: |███████████████████████████████████████████████| 100%\n"
     ]
    }
   ],
   "source": [
    "# Build a Distributed Random Forest (DRF) model with default settings\n",
    "\n",
    "# Import the function for DRF\n",
    "from h2o.estimators.random_forest import H2ORandomForestEstimator\n",
    "\n",
    "# Set up DRF for regression\n",
    "# Add a seed for reproducibility\n",
    "drf_default = H2ORandomForestEstimator(model_id = 'drf_default', seed = 1234)\n",
    "\n",
    "# Use .train() to build the model\n",
    "drf_default.train(x = features, \n",
    "                  y = 'quality', \n",
    "                  training_frame = wine_train)"
   ]
  },
  {
   "cell_type": "code",
   "execution_count": 11,
   "metadata": {
    "collapsed": false
   },
   "outputs": [
    {
     "name": "stdout",
     "output_type": "stream",
     "text": [
      "Model Details\n",
      "=============\n",
      "H2ORandomForestEstimator :  Distributed Random Forest\n",
      "Model Key:  drf_default\n",
      "\n",
      "\n",
      "ModelMetricsRegression: drf\n",
      "** Reported on train data. **\n",
      "\n",
      "MSE: 0.3786311991201336\n",
      "RMSE: 0.615330154567557\n",
      "MAE: 0.4423354990678668\n",
      "RMSLE: 0.09221859689553939\n",
      "Mean Residual Deviance: 0.3786311991201336\n",
      "Scoring History: \n"
     ]
    },
    {
     "data": {
      "text/html": [
       "<div style=\"overflow:auto\"><table style=\"width:50%\"><tr><td><b></b></td>\n",
       "<td><b>timestamp</b></td>\n",
       "<td><b>duration</b></td>\n",
       "<td><b>number_of_trees</b></td>\n",
       "<td><b>training_rmse</b></td>\n",
       "<td><b>training_mae</b></td>\n",
       "<td><b>training_deviance</b></td></tr>\n",
       "<tr><td></td>\n",
       "<td>2017-02-24 14:29:03</td>\n",
       "<td> 0.010 sec</td>\n",
       "<td>0.0</td>\n",
       "<td>nan</td>\n",
       "<td>nan</td>\n",
       "<td>nan</td></tr>\n",
       "<tr><td></td>\n",
       "<td>2017-02-24 14:29:03</td>\n",
       "<td> 0.279 sec</td>\n",
       "<td>1.0</td>\n",
       "<td>0.9087144</td>\n",
       "<td>0.5780743</td>\n",
       "<td>0.8257618</td></tr>\n",
       "<tr><td></td>\n",
       "<td>2017-02-24 14:29:04</td>\n",
       "<td> 0.354 sec</td>\n",
       "<td>2.0</td>\n",
       "<td>0.8919799</td>\n",
       "<td>0.5738643</td>\n",
       "<td>0.7956282</td></tr>\n",
       "<tr><td></td>\n",
       "<td>2017-02-24 14:29:04</td>\n",
       "<td> 0.413 sec</td>\n",
       "<td>3.0</td>\n",
       "<td>0.8502710</td>\n",
       "<td>0.5492569</td>\n",
       "<td>0.7229608</td></tr>\n",
       "<tr><td></td>\n",
       "<td>2017-02-24 14:29:04</td>\n",
       "<td> 0.469 sec</td>\n",
       "<td>4.0</td>\n",
       "<td>0.8352497</td>\n",
       "<td>0.5485249</td>\n",
       "<td>0.6976421</td></tr>\n",
       "<tr><td>---</td>\n",
       "<td>---</td>\n",
       "<td>---</td>\n",
       "<td>---</td>\n",
       "<td>---</td>\n",
       "<td>---</td>\n",
       "<td>---</td></tr>\n",
       "<tr><td></td>\n",
       "<td>2017-02-24 14:29:05</td>\n",
       "<td> 1.848 sec</td>\n",
       "<td>46.0</td>\n",
       "<td>0.6177766</td>\n",
       "<td>0.4440441</td>\n",
       "<td>0.3816479</td></tr>\n",
       "<tr><td></td>\n",
       "<td>2017-02-24 14:29:05</td>\n",
       "<td> 1.870 sec</td>\n",
       "<td>47.0</td>\n",
       "<td>0.6170476</td>\n",
       "<td>0.4438940</td>\n",
       "<td>0.3807478</td></tr>\n",
       "<tr><td></td>\n",
       "<td>2017-02-24 14:29:05</td>\n",
       "<td> 1.890 sec</td>\n",
       "<td>48.0</td>\n",
       "<td>0.6163446</td>\n",
       "<td>0.4433232</td>\n",
       "<td>0.3798807</td></tr>\n",
       "<tr><td></td>\n",
       "<td>2017-02-24 14:29:05</td>\n",
       "<td> 1.912 sec</td>\n",
       "<td>49.0</td>\n",
       "<td>0.6162188</td>\n",
       "<td>0.4431046</td>\n",
       "<td>0.3797256</td></tr>\n",
       "<tr><td></td>\n",
       "<td>2017-02-24 14:29:05</td>\n",
       "<td> 1.929 sec</td>\n",
       "<td>50.0</td>\n",
       "<td>0.6153302</td>\n",
       "<td>0.4423355</td>\n",
       "<td>0.3786312</td></tr></table></div>"
      ],
      "text/plain": [
       "     timestamp            duration    number_of_trees    training_rmse       training_mae         training_deviance\n",
       "---  -------------------  ----------  -----------------  ------------------  -------------------  -------------------\n",
       "     2017-02-24 14:29:03  0.010 sec   0.0                nan                 nan                  nan\n",
       "     2017-02-24 14:29:03  0.279 sec   1.0                0.9087143516225863  0.5780742671604535   0.8257617728448574\n",
       "     2017-02-24 14:29:04  0.354 sec   2.0                0.8919799069891234  0.573864322524887    0.7956281544723253\n",
       "     2017-02-24 14:29:04  0.413 sec   3.0                0.8502709868108351  0.549256903017451    0.7229607510122714\n",
       "     2017-02-24 14:29:04  0.469 sec   4.0                0.8352497205219737  0.5485248781956131   0.6976420956320352\n",
       "---  ---                  ---         ---                ---                 ---                  ---\n",
       "     2017-02-24 14:29:05  1.848 sec   46.0               0.6177765896823991  0.4440441032981307   0.38164791475961535\n",
       "     2017-02-24 14:29:05  1.870 sec   47.0               0.6170476290743915  0.4438940151141739   0.3807477765463278\n",
       "     2017-02-24 14:29:05  1.890 sec   48.0               0.6163446245387679  0.44332316124622123  0.37988069619783477\n",
       "     2017-02-24 14:29:05  1.912 sec   49.0               0.6162187596445785  0.443104599103587    0.37972555973790284\n",
       "     2017-02-24 14:29:05  1.929 sec   50.0               0.615330154567557   0.4423354990678668   0.3786311991201336"
      ]
     },
     "metadata": {},
     "output_type": "display_data"
    },
    {
     "name": "stdout",
     "output_type": "stream",
     "text": [
      "\n",
      "See the whole table with table.as_data_frame()\n",
      "Variable Importances: \n"
     ]
    },
    {
     "data": {
      "text/html": [
       "<div style=\"overflow:auto\"><table style=\"width:50%\"><tr><td><b>variable</b></td>\n",
       "<td><b>relative_importance</b></td>\n",
       "<td><b>scaled_importance</b></td>\n",
       "<td><b>percentage</b></td></tr>\n",
       "<tr><td>alcohol</td>\n",
       "<td>20878.3164062</td>\n",
       "<td>1.0</td>\n",
       "<td>0.2070740</td></tr>\n",
       "<tr><td>density</td>\n",
       "<td>11681.6083984</td>\n",
       "<td>0.5595091</td>\n",
       "<td>0.1158598</td></tr>\n",
       "<tr><td>free sulfur dioxide</td>\n",
       "<td>10304.6474609</td>\n",
       "<td>0.4935574</td>\n",
       "<td>0.1022029</td></tr>\n",
       "<tr><td>volatile acidity</td>\n",
       "<td>10046.6591797</td>\n",
       "<td>0.4812006</td>\n",
       "<td>0.0996441</td></tr>\n",
       "<tr><td>total sulfur dioxide</td>\n",
       "<td>7576.9418945</td>\n",
       "<td>0.3629096</td>\n",
       "<td>0.0751491</td></tr>\n",
       "<tr><td>chlorides</td>\n",
       "<td>7170.6318359</td>\n",
       "<td>0.3434488</td>\n",
       "<td>0.0711193</td></tr>\n",
       "<tr><td>pH</td>\n",
       "<td>6974.2666016</td>\n",
       "<td>0.3340435</td>\n",
       "<td>0.0691717</td></tr>\n",
       "<tr><td>residual sugar</td>\n",
       "<td>6736.8276367</td>\n",
       "<td>0.3226710</td>\n",
       "<td>0.0668168</td></tr>\n",
       "<tr><td>fixed acidity</td>\n",
       "<td>6671.1586914</td>\n",
       "<td>0.3195257</td>\n",
       "<td>0.0661655</td></tr>\n",
       "<tr><td>citric acid</td>\n",
       "<td>6666.0361328</td>\n",
       "<td>0.3192803</td>\n",
       "<td>0.0661146</td></tr>\n",
       "<tr><td>sulphates</td>\n",
       "<td>6118.3095703</td>\n",
       "<td>0.2930461</td>\n",
       "<td>0.0606822</td></tr></table></div>"
      ],
      "text/plain": [
       "variable              relative_importance    scaled_importance    percentage\n",
       "--------------------  ---------------------  -------------------  ------------\n",
       "alcohol               20878.3                1                    0.207074\n",
       "density               11681.6                0.559509             0.11586\n",
       "free sulfur dioxide   10304.6                0.493557             0.102203\n",
       "volatile acidity      10046.7                0.481201             0.0996441\n",
       "total sulfur dioxide  7576.94                0.36291              0.0751491\n",
       "chlorides             7170.63                0.343449             0.0711193\n",
       "pH                    6974.27                0.334044             0.0691717\n",
       "residual sugar        6736.83                0.322671             0.0668168\n",
       "fixed acidity         6671.16                0.319526             0.0661655\n",
       "citric acid           6666.04                0.31928              0.0661146\n",
       "sulphates             6118.31                0.293046             0.0606822"
      ]
     },
     "metadata": {},
     "output_type": "display_data"
    },
    {
     "data": {
      "text/plain": []
     },
     "execution_count": 11,
     "metadata": {},
     "output_type": "execute_result"
    }
   ],
   "source": [
    "# Check the DRF model summary\n",
    "drf_default"
   ]
  },
  {
   "cell_type": "code",
   "execution_count": 12,
   "metadata": {
    "collapsed": false
   },
   "outputs": [
    {
     "name": "stdout",
     "output_type": "stream",
     "text": [
      "\n",
      "ModelMetricsRegression: drf\n",
      "** Reported on test data. **\n",
      "\n",
      "MSE: 0.39639765836475405\n",
      "RMSE: 0.6296011899327654\n",
      "MAE: 0.4470666172070494\n",
      "RMSLE: 0.0956471646937074\n",
      "Mean Residual Deviance: 0.39639765836475405\n"
     ]
    },
    {
     "data": {
      "text/plain": []
     },
     "execution_count": 12,
     "metadata": {},
     "output_type": "execute_result"
    }
   ],
   "source": [
    "# Check the model performance on test dataset\n",
    "drf_default.model_performance(wine_test)"
   ]
  },
  {
   "cell_type": "markdown",
   "metadata": {
    "collapsed": true
   },
   "source": [
    "<br>\n",
    "\n",
    "## Gradient Boosting Machines"
   ]
  },
  {
   "cell_type": "code",
   "execution_count": 13,
   "metadata": {
    "collapsed": false
   },
   "outputs": [
    {
     "name": "stdout",
     "output_type": "stream",
     "text": [
      "gbm Model Build progress: |███████████████████████████████████████████████| 100%\n"
     ]
    }
   ],
   "source": [
    "# Build a Gradient Boosting Machines (GBM) model with default settings\n",
    "\n",
    "# Import the function for GBM\n",
    "from h2o.estimators.gbm import H2OGradientBoostingEstimator\n",
    "\n",
    "# Set up GBM for regression\n",
    "# Add a seed for reproducibility\n",
    "gbm_default = H2OGradientBoostingEstimator(model_id = 'gbm_default', seed = 1234)\n",
    "\n",
    "# Use .train() to build the model\n",
    "gbm_default.train(x = features, \n",
    "                  y = 'quality', \n",
    "                  training_frame = wine_train)"
   ]
  },
  {
   "cell_type": "code",
   "execution_count": 14,
   "metadata": {
    "collapsed": false
   },
   "outputs": [
    {
     "name": "stdout",
     "output_type": "stream",
     "text": [
      "Model Details\n",
      "=============\n",
      "H2OGradientBoostingEstimator :  Gradient Boosting Machine\n",
      "Model Key:  gbm_default\n",
      "\n",
      "\n",
      "ModelMetricsRegression: gbm\n",
      "** Reported on train data. **\n",
      "\n",
      "MSE: 0.3279901359237029\n",
      "RMSE: 0.5727042307541502\n",
      "MAE: 0.4468592957574494\n",
      "RMSLE: 0.08454073238229556\n",
      "Mean Residual Deviance: 0.3279901359237029\n",
      "Scoring History: \n"
     ]
    },
    {
     "data": {
      "text/html": [
       "<div style=\"overflow:auto\"><table style=\"width:50%\"><tr><td><b></b></td>\n",
       "<td><b>timestamp</b></td>\n",
       "<td><b>duration</b></td>\n",
       "<td><b>number_of_trees</b></td>\n",
       "<td><b>training_rmse</b></td>\n",
       "<td><b>training_mae</b></td>\n",
       "<td><b>training_deviance</b></td></tr>\n",
       "<tr><td></td>\n",
       "<td>2017-02-24 14:29:06</td>\n",
       "<td> 0.004 sec</td>\n",
       "<td>0.0</td>\n",
       "<td>0.8782356</td>\n",
       "<td>0.6676549</td>\n",
       "<td>0.7712978</td></tr>\n",
       "<tr><td></td>\n",
       "<td>2017-02-24 14:29:06</td>\n",
       "<td> 0.074 sec</td>\n",
       "<td>1.0</td>\n",
       "<td>0.8470435</td>\n",
       "<td>0.6414797</td>\n",
       "<td>0.7174826</td></tr>\n",
       "<tr><td></td>\n",
       "<td>2017-02-24 14:29:06</td>\n",
       "<td> 0.092 sec</td>\n",
       "<td>2.0</td>\n",
       "<td>0.8205102</td>\n",
       "<td>0.6196456</td>\n",
       "<td>0.6732370</td></tr>\n",
       "<tr><td></td>\n",
       "<td>2017-02-24 14:29:06</td>\n",
       "<td> 0.108 sec</td>\n",
       "<td>3.0</td>\n",
       "<td>0.7978752</td>\n",
       "<td>0.6061423</td>\n",
       "<td>0.6366049</td></tr>\n",
       "<tr><td></td>\n",
       "<td>2017-02-24 14:29:06</td>\n",
       "<td> 0.132 sec</td>\n",
       "<td>4.0</td>\n",
       "<td>0.7779741</td>\n",
       "<td>0.5961975</td>\n",
       "<td>0.6052437</td></tr>\n",
       "<tr><td>---</td>\n",
       "<td>---</td>\n",
       "<td>---</td>\n",
       "<td>---</td>\n",
       "<td>---</td>\n",
       "<td>---</td>\n",
       "<td>---</td></tr>\n",
       "<tr><td></td>\n",
       "<td>2017-02-24 14:29:06</td>\n",
       "<td> 0.696 sec</td>\n",
       "<td>46.0</td>\n",
       "<td>0.5786491</td>\n",
       "<td>0.4516237</td>\n",
       "<td>0.3348347</td></tr>\n",
       "<tr><td></td>\n",
       "<td>2017-02-24 14:29:06</td>\n",
       "<td> 0.705 sec</td>\n",
       "<td>47.0</td>\n",
       "<td>0.5775187</td>\n",
       "<td>0.4506466</td>\n",
       "<td>0.3335279</td></tr>\n",
       "<tr><td></td>\n",
       "<td>2017-02-24 14:29:06</td>\n",
       "<td> 0.713 sec</td>\n",
       "<td>48.0</td>\n",
       "<td>0.5770047</td>\n",
       "<td>0.4500542</td>\n",
       "<td>0.3329344</td></tr>\n",
       "<tr><td></td>\n",
       "<td>2017-02-24 14:29:06</td>\n",
       "<td> 0.721 sec</td>\n",
       "<td>49.0</td>\n",
       "<td>0.5749100</td>\n",
       "<td>0.4484259</td>\n",
       "<td>0.3305215</td></tr>\n",
       "<tr><td></td>\n",
       "<td>2017-02-24 14:29:06</td>\n",
       "<td> 0.736 sec</td>\n",
       "<td>50.0</td>\n",
       "<td>0.5727042</td>\n",
       "<td>0.4468593</td>\n",
       "<td>0.3279901</td></tr></table></div>"
      ],
      "text/plain": [
       "     timestamp            duration    number_of_trees    training_rmse       training_mae        training_deviance\n",
       "---  -------------------  ----------  -----------------  ------------------  ------------------  -------------------\n",
       "     2017-02-24 14:29:06  0.004 sec   0.0                0.8782356355971063  0.6676548833819239  0.7712978316326532\n",
       "     2017-02-24 14:29:06  0.074 sec   1.0                0.8470434709442771  0.6414797392426704  0.7174826416693284\n",
       "     2017-02-24 14:29:06  0.092 sec   2.0                0.8205102373637634  0.6196455822915446  0.6732370496187393\n",
       "     2017-02-24 14:29:06  0.108 sec   3.0                0.7978752379746723  0.6061422819993934  0.63660489537314\n",
       "     2017-02-24 14:29:06  0.132 sec   4.0                0.7779740985162299  0.596197474854333   0.6052436979621406\n",
       "---  ---                  ---         ---                ---                 ---                 ---\n",
       "     2017-02-24 14:29:06  0.696 sec   46.0               0.5786490544967252  0.4516236614207832  0.3348347282699541\n",
       "     2017-02-24 14:29:06  0.705 sec   47.0               0.5775187281296424  0.4506465823066478  0.3335278813404799\n",
       "     2017-02-24 14:29:06  0.713 sec   48.0               0.5770047083521408  0.4500542456398205  0.3329344334605391\n",
       "     2017-02-24 14:29:06  0.721 sec   49.0               0.5749100176962237  0.4484258545296533  0.33052152844747223\n",
       "     2017-02-24 14:29:06  0.736 sec   50.0               0.5727042307541502  0.4468592957574494  0.3279901359237029"
      ]
     },
     "metadata": {},
     "output_type": "display_data"
    },
    {
     "name": "stdout",
     "output_type": "stream",
     "text": [
      "\n",
      "See the whole table with table.as_data_frame()\n",
      "Variable Importances: \n"
     ]
    },
    {
     "data": {
      "text/html": [
       "<div style=\"overflow:auto\"><table style=\"width:50%\"><tr><td><b>variable</b></td>\n",
       "<td><b>relative_importance</b></td>\n",
       "<td><b>scaled_importance</b></td>\n",
       "<td><b>percentage</b></td></tr>\n",
       "<tr><td>alcohol</td>\n",
       "<td>3443.4946289</td>\n",
       "<td>1.0</td>\n",
       "<td>0.3760723</td></tr>\n",
       "<tr><td>volatile acidity</td>\n",
       "<td>1333.1967773</td>\n",
       "<td>0.3871639</td>\n",
       "<td>0.1456016</td></tr>\n",
       "<tr><td>free sulfur dioxide</td>\n",
       "<td>1227.8638916</td>\n",
       "<td>0.3565749</td>\n",
       "<td>0.1340980</td></tr>\n",
       "<tr><td>residual sugar</td>\n",
       "<td>572.8696289</td>\n",
       "<td>0.1663629</td>\n",
       "<td>0.0625645</td></tr>\n",
       "<tr><td>pH</td>\n",
       "<td>529.3963623</td>\n",
       "<td>0.1537381</td>\n",
       "<td>0.0578166</td></tr>\n",
       "<tr><td>citric acid</td>\n",
       "<td>438.0522766</td>\n",
       "<td>0.1272115</td>\n",
       "<td>0.0478407</td></tr>\n",
       "<tr><td>fixed acidity</td>\n",
       "<td>384.2873535</td>\n",
       "<td>0.1115981</td>\n",
       "<td>0.0419689</td></tr>\n",
       "<tr><td>chlorides</td>\n",
       "<td>319.1284485</td>\n",
       "<td>0.0926758</td>\n",
       "<td>0.0348528</td></tr>\n",
       "<tr><td>sulphates</td>\n",
       "<td>317.8505859</td>\n",
       "<td>0.0923047</td>\n",
       "<td>0.0347132</td></tr>\n",
       "<tr><td>total sulfur dioxide</td>\n",
       "<td>313.2650452</td>\n",
       "<td>0.0909730</td>\n",
       "<td>0.0342124</td></tr>\n",
       "<tr><td>density</td>\n",
       "<td>277.0641785</td>\n",
       "<td>0.0804602</td>\n",
       "<td>0.0302588</td></tr></table></div>"
      ],
      "text/plain": [
       "variable              relative_importance    scaled_importance    percentage\n",
       "--------------------  ---------------------  -------------------  ------------\n",
       "alcohol               3443.49                1                    0.376072\n",
       "volatile acidity      1333.2                 0.387164             0.145602\n",
       "free sulfur dioxide   1227.86                0.356575             0.134098\n",
       "residual sugar        572.87                 0.166363             0.0625645\n",
       "pH                    529.396                0.153738             0.0578166\n",
       "citric acid           438.052                0.127212             0.0478407\n",
       "fixed acidity         384.287                0.111598             0.0419689\n",
       "chlorides             319.128                0.0926758            0.0348528\n",
       "sulphates             317.851                0.0923047            0.0347132\n",
       "total sulfur dioxide  313.265                0.090973             0.0342124\n",
       "density               277.064                0.0804602            0.0302588"
      ]
     },
     "metadata": {},
     "output_type": "display_data"
    },
    {
     "data": {
      "text/plain": []
     },
     "execution_count": 14,
     "metadata": {},
     "output_type": "execute_result"
    }
   ],
   "source": [
    "# Check the GBM model summary\n",
    "gbm_default"
   ]
  },
  {
   "cell_type": "code",
   "execution_count": 15,
   "metadata": {
    "collapsed": false,
    "scrolled": true
   },
   "outputs": [
    {
     "name": "stdout",
     "output_type": "stream",
     "text": [
      "\n",
      "ModelMetricsRegression: gbm\n",
      "** Reported on test data. **\n",
      "\n",
      "MSE: 0.4982022441718445\n",
      "RMSE: 0.7058344311322907\n",
      "MAE: 0.545334849281441\n",
      "RMSLE: 0.10596392876553129\n",
      "Mean Residual Deviance: 0.4982022441718445\n"
     ]
    },
    {
     "data": {
      "text/plain": []
     },
     "execution_count": 15,
     "metadata": {},
     "output_type": "execute_result"
    }
   ],
   "source": [
    "# Check the model performance on test dataset\n",
    "gbm_default.model_performance(wine_test)"
   ]
  },
  {
   "cell_type": "markdown",
   "metadata": {},
   "source": [
    "<br>\n",
    "\n",
    "## H2O Deep Learning"
   ]
  },
  {
   "cell_type": "code",
   "execution_count": 16,
   "metadata": {
    "collapsed": false
   },
   "outputs": [
    {
     "name": "stdout",
     "output_type": "stream",
     "text": [
      "deeplearning Model Build progress: |██████████████████████████████████████| 100%\n"
     ]
    }
   ],
   "source": [
    "# Build a Deep Learning (Deep Neural Networks, DNN) model with default settings\n",
    "\n",
    "# Import the function for DNN\n",
    "from h2o.estimators.deeplearning import H2ODeepLearningEstimator\n",
    "\n",
    "# Set up DNN for regression\n",
    "dnn_default = H2ODeepLearningEstimator(model_id = 'dnn_default')\n",
    "\n",
    "# (not run) Change 'reproducible' to True if you want to reproduce the results\n",
    "# The model will be built using a single thread (could be very slow)\n",
    "# dnn_default = H2ODeepLearningEstimator(model_id = 'dnn_default', reproducible = True)\n",
    "\n",
    "# Use .train() to build the model\n",
    "dnn_default.train(x = features, \n",
    "                  y = 'quality', \n",
    "                  training_frame = wine_train)"
   ]
  },
  {
   "cell_type": "code",
   "execution_count": 17,
   "metadata": {
    "collapsed": false
   },
   "outputs": [
    {
     "name": "stdout",
     "output_type": "stream",
     "text": [
      "Model Details\n",
      "=============\n",
      "H2ODeepLearningEstimator :  Deep Learning\n",
      "Model Key:  dnn_default\n",
      "\n",
      "\n",
      "ModelMetricsRegression: deeplearning\n",
      "** Reported on train data. **\n",
      "\n",
      "MSE: 0.43786400091608246\n",
      "RMSE: 0.6617129293856079\n",
      "MAE: 0.5095157254634646\n",
      "RMSLE: 0.09753833427573282\n",
      "Mean Residual Deviance: 0.43786400091608246\n",
      "Scoring History: \n"
     ]
    },
    {
     "data": {
      "text/html": [
       "<div style=\"overflow:auto\"><table style=\"width:50%\"><tr><td><b></b></td>\n",
       "<td><b>timestamp</b></td>\n",
       "<td><b>duration</b></td>\n",
       "<td><b>training_speed</b></td>\n",
       "<td><b>epochs</b></td>\n",
       "<td><b>iterations</b></td>\n",
       "<td><b>samples</b></td>\n",
       "<td><b>training_rmse</b></td>\n",
       "<td><b>training_deviance</b></td>\n",
       "<td><b>training_mae</b></td></tr>\n",
       "<tr><td></td>\n",
       "<td>2017-02-24 14:29:07</td>\n",
       "<td> 0.000 sec</td>\n",
       "<td>None</td>\n",
       "<td>0.0</td>\n",
       "<td>0</td>\n",
       "<td>0.0</td>\n",
       "<td>nan</td>\n",
       "<td>nan</td>\n",
       "<td>nan</td></tr>\n",
       "<tr><td></td>\n",
       "<td>2017-02-24 14:29:08</td>\n",
       "<td> 1.857 sec</td>\n",
       "<td>5781 obs/sec</td>\n",
       "<td>1.0</td>\n",
       "<td>1</td>\n",
       "<td>3920.0</td>\n",
       "<td>0.7517084</td>\n",
       "<td>0.5650655</td>\n",
       "<td>0.5805199</td></tr>\n",
       "<tr><td></td>\n",
       "<td>2017-02-24 14:29:10</td>\n",
       "<td> 3.825 sec</td>\n",
       "<td>15100 obs/sec</td>\n",
       "<td>10.0</td>\n",
       "<td>10</td>\n",
       "<td>39200.0</td>\n",
       "<td>0.6617129</td>\n",
       "<td>0.4378640</td>\n",
       "<td>0.5095157</td></tr></table></div>"
      ],
      "text/plain": [
       "    timestamp            duration    training_speed    epochs    iterations    samples    training_rmse    training_deviance    training_mae\n",
       "--  -------------------  ----------  ----------------  --------  ------------  ---------  ---------------  -------------------  --------------\n",
       "    2017-02-24 14:29:07  0.000 sec                     0         0             0          nan              nan                  nan\n",
       "    2017-02-24 14:29:08  1.857 sec   5781 obs/sec      1         1             3920       0.751708         0.565065             0.58052\n",
       "    2017-02-24 14:29:10  3.825 sec   15100 obs/sec     10        10            39200      0.661713         0.437864             0.509516"
      ]
     },
     "metadata": {},
     "output_type": "display_data"
    },
    {
     "data": {
      "text/plain": []
     },
     "execution_count": 17,
     "metadata": {},
     "output_type": "execute_result"
    }
   ],
   "source": [
    "# Check the DNN model summary\n",
    "dnn_default"
   ]
  },
  {
   "cell_type": "code",
   "execution_count": 18,
   "metadata": {
    "collapsed": false
   },
   "outputs": [
    {
     "name": "stdout",
     "output_type": "stream",
     "text": [
      "\n",
      "ModelMetricsRegression: deeplearning\n",
      "** Reported on test data. **\n",
      "\n",
      "MSE: 0.5250970590349768\n",
      "RMSE: 0.7246358113114317\n",
      "MAE: 0.5599060268088915\n",
      "RMSLE: 0.10771735822508255\n",
      "Mean Residual Deviance: 0.5250970590349768\n"
     ]
    },
    {
     "data": {
      "text/plain": []
     },
     "execution_count": 18,
     "metadata": {},
     "output_type": "execute_result"
    }
   ],
   "source": [
    "# Check the model performance on test dataset\n",
    "dnn_default.model_performance(wine_test)"
   ]
  },
  {
   "cell_type": "markdown",
   "metadata": {},
   "source": [
    "<br>\n",
    "\n",
    "## Making Predictions"
   ]
  },
  {
   "cell_type": "code",
   "execution_count": 19,
   "metadata": {
    "collapsed": false
   },
   "outputs": [
    {
     "name": "stdout",
     "output_type": "stream",
     "text": [
      "glm prediction progress: |████████████████████████████████████████████████| 100%\n"
     ]
    },
    {
     "data": {
      "text/html": [
       "<table>\n",
       "<thead>\n",
       "<tr><th style=\"text-align: right;\">  predict</th></tr>\n",
       "</thead>\n",
       "<tbody>\n",
       "<tr><td style=\"text-align: right;\">  5.51509</td></tr>\n",
       "<tr><td style=\"text-align: right;\">  5.73903</td></tr>\n",
       "<tr><td style=\"text-align: right;\">  5.49107</td></tr>\n",
       "<tr><td style=\"text-align: right;\">  5.48028</td></tr>\n",
       "<tr><td style=\"text-align: right;\">  5.91343</td></tr>\n",
       "</tbody>\n",
       "</table>"
      ]
     },
     "metadata": {},
     "output_type": "display_data"
    },
    {
     "data": {
      "text/plain": []
     },
     "execution_count": 19,
     "metadata": {},
     "output_type": "execute_result"
    }
   ],
   "source": [
    "# Use GLM model to make predictions\n",
    "yhat_test_glm = glm_default.predict(wine_test)\n",
    "yhat_test_glm.head(5)"
   ]
  },
  {
   "cell_type": "code",
   "execution_count": 20,
   "metadata": {
    "collapsed": false
   },
   "outputs": [
    {
     "name": "stdout",
     "output_type": "stream",
     "text": [
      "drf prediction progress: |████████████████████████████████████████████████| 100%\n"
     ]
    },
    {
     "data": {
      "text/html": [
       "<table>\n",
       "<thead>\n",
       "<tr><th style=\"text-align: right;\">  predict</th></tr>\n",
       "</thead>\n",
       "<tbody>\n",
       "<tr><td style=\"text-align: right;\">  5.70643</td></tr>\n",
       "<tr><td style=\"text-align: right;\">  5.71689</td></tr>\n",
       "<tr><td style=\"text-align: right;\">  5.86   </td></tr>\n",
       "<tr><td style=\"text-align: right;\">  5.7    </td></tr>\n",
       "<tr><td style=\"text-align: right;\">  5.99533</td></tr>\n",
       "</tbody>\n",
       "</table>"
      ]
     },
     "metadata": {},
     "output_type": "display_data"
    },
    {
     "data": {
      "text/plain": []
     },
     "execution_count": 20,
     "metadata": {},
     "output_type": "execute_result"
    }
   ],
   "source": [
    "# Use DRF model to make predictions\n",
    "yhat_test_drf = drf_default.predict(wine_test)\n",
    "yhat_test_drf.head(5)"
   ]
  },
  {
   "cell_type": "code",
   "execution_count": 21,
   "metadata": {
    "collapsed": false
   },
   "outputs": [
    {
     "name": "stdout",
     "output_type": "stream",
     "text": [
      "gbm prediction progress: |████████████████████████████████████████████████| 100%\n"
     ]
    },
    {
     "data": {
      "text/html": [
       "<table>\n",
       "<thead>\n",
       "<tr><th style=\"text-align: right;\">  predict</th></tr>\n",
       "</thead>\n",
       "<tbody>\n",
       "<tr><td style=\"text-align: right;\">  5.52585</td></tr>\n",
       "<tr><td style=\"text-align: right;\">  5.88708</td></tr>\n",
       "<tr><td style=\"text-align: right;\">  5.63179</td></tr>\n",
       "<tr><td style=\"text-align: right;\">  5.66957</td></tr>\n",
       "<tr><td style=\"text-align: right;\">  5.9565 </td></tr>\n",
       "</tbody>\n",
       "</table>"
      ]
     },
     "metadata": {},
     "output_type": "display_data"
    },
    {
     "data": {
      "text/plain": []
     },
     "execution_count": 21,
     "metadata": {},
     "output_type": "execute_result"
    }
   ],
   "source": [
    "# Use GBM model to make predictions\n",
    "yhat_test_gbm = gbm_default.predict(wine_test)\n",
    "yhat_test_gbm.head(5)"
   ]
  },
  {
   "cell_type": "code",
   "execution_count": 22,
   "metadata": {
    "collapsed": false
   },
   "outputs": [
    {
     "name": "stdout",
     "output_type": "stream",
     "text": [
      "deeplearning prediction progress: |███████████████████████████████████████| 100%\n"
     ]
    },
    {
     "data": {
      "text/html": [
       "<table>\n",
       "<thead>\n",
       "<tr><th style=\"text-align: right;\">  predict</th></tr>\n",
       "</thead>\n",
       "<tbody>\n",
       "<tr><td style=\"text-align: right;\">  5.5508 </td></tr>\n",
       "<tr><td style=\"text-align: right;\">  5.64736</td></tr>\n",
       "<tr><td style=\"text-align: right;\">  5.93948</td></tr>\n",
       "<tr><td style=\"text-align: right;\">  5.5074 </td></tr>\n",
       "<tr><td style=\"text-align: right;\">  6.09279</td></tr>\n",
       "</tbody>\n",
       "</table>"
      ]
     },
     "metadata": {},
     "output_type": "display_data"
    },
    {
     "data": {
      "text/plain": []
     },
     "execution_count": 22,
     "metadata": {},
     "output_type": "execute_result"
    }
   ],
   "source": [
    "# Use DNN model to make predictions\n",
    "yhat_test_dnn = dnn_default.predict(wine_test)\n",
    "yhat_test_dnn.head(5)"
   ]
  },
  {
   "cell_type": "markdown",
   "metadata": {},
   "source": [
    "<br>"
   ]
  }
 ],
 "metadata": {
  "anaconda-cloud": {},
  "kernelspec": {
   "display_name": "Python [conda root]",
   "language": "python",
   "name": "conda-root-py"
  },
  "language_info": {
   "codemirror_mode": {
    "name": "ipython",
    "version": 3
   },
   "file_extension": ".py",
   "mimetype": "text/x-python",
   "name": "python",
   "nbconvert_exporter": "python",
   "pygments_lexer": "ipython3",
   "version": "3.5.2"
  }
 },
 "nbformat": 4,
 "nbformat_minor": 1
}
